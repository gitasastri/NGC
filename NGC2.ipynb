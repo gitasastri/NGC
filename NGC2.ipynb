{
 "cells": [
  {
   "cell_type": "code",
   "execution_count": 22,
   "metadata": {},
   "outputs": [
    {
     "name": "stdout",
     "output_type": "stream",
     "text": [
      "2\n",
      "8\n"
     ]
    }
   ],
   "source": [
    "#Task 1 - Number of Word\n",
    "#create a function that count the number of word in a sentence\n",
    "def number_of_words(sentence):\n",
    "    #print(len(sentence.split())) \n",
    "    return len(sentence.split())\n",
    "\n",
    "\n",
    "#bikin variabel buat nampung data dari return\n",
    "result = number_of_words(\"Hello World\")\n",
    "result2 = number_of_words('Once upon a time in a faraway land')\n",
    "print(result)\n",
    "print(result2)\n"
   ]
  },
  {
   "cell_type": "code",
   "execution_count": 33,
   "metadata": {},
   "outputs": [
    {
     "name": "stdout",
     "output_type": "stream",
     "text": [
      "[5, 10, 15]\n",
      "[10, 20, 30, 40]\n"
     ]
    }
   ],
   "source": [
    "#Task 2 - Find Multiple \n",
    "#Create a function that will get list of number(s) \n",
    "#from a certain range that multiples of given number.\n",
    "\n",
    "def find_multiples(start_range, end_range, multiple):\n",
    "    result = [] #variabel untuk menampung data dari looping\n",
    "    for i in range(start_range, end_range):\n",
    "        # % mencari sisa bagi\n",
    "        if i % multiple == 0: #jika i modulus 5 = 0, maka\n",
    "            result.append(i) #hasil ditambahkan ke variabel result yg isinya i\n",
    "            #append menambahkan data ke list\n",
    "    return result #selesai dapat hasil, return ke result\n",
    "\n",
    "print(find_multiples(1, 20, 5))\n",
    "print(find_multiples(1, 50, 10))\n",
    "#print yg merupakan kelipatan 5\n",
    "#atau yg habis dibagi 5 dalam rentang 1 sampai 20/50"
   ]
  },
  {
   "cell_type": "code",
   "execution_count": 40,
   "metadata": {},
   "outputs": [
    {
     "data": {
      "text/plain": [
       "{'key1': 2, 'Adam': 2.5, 'Faiz': 4}"
      ]
     },
     "execution_count": 40,
     "metadata": {},
     "output_type": "execute_result"
    }
   ],
   "source": [
    "#Task 3 - Grade Converter\n",
    "#create a function that will convert student's grade to GPA \n",
    "\n",
    "\n",
    "#convert to: letter grade/gpa\n",
    "#studens -> kwargs -> **students\n",
    "def grade_converter(convert_to, **students):\n",
    "    #print(students) #menghasilkan dict\n",
    "    keys = list(students.keys())\n",
    "\n",
    "    for studentname in keys:\n",
    "        score = students[studentname]\n",
    "        if score >= 85: \n",
    "            #check gpa/letter grade\n",
    "            if convert_to == 'gpa':\n",
    "                score = 4\n",
    "            else: \n",
    "                score = 'A' \n",
    "        elif score >= 70: \n",
    "            #check gpa/letter grade\n",
    "            if convert_to == 'gpa':\n",
    "                score = 3\n",
    "            else: \n",
    "                score = 'B' \n",
    "        elif score >= 60:\n",
    "            #check gpa/letter grade\n",
    "            if convert_to == 'gpa':\n",
    "                score = 2.5\n",
    "            else: \n",
    "                score = 'C'  \n",
    "        elif score >= 50:\n",
    "            #check gpa/letter grade\n",
    "            if convert_to == 'gpa':\n",
    "                score = 2\n",
    "            else: \n",
    "                score = 'D'  \n",
    "        elif score >= 40: \n",
    "            #check gpa/letter grade\n",
    "            if convert_to == 'gpa':\n",
    "                score = 1.5\n",
    "            else: \n",
    "                score = 'F' \n",
    "        else: \n",
    "            print('F')\n",
    "\n",
    "        #mengubah nilai student\n",
    "        students[studentname] = score\n",
    "\n",
    "    return students\n",
    "\n",
    "grade_converter(\"gpa\", key1=50 , Adam=62, Faiz=91)\n",
    "\n"
   ]
  }
 ],
 "metadata": {
  "kernelspec": {
   "display_name": "base",
   "language": "python",
   "name": "python3"
  },
  "language_info": {
   "codemirror_mode": {
    "name": "ipython",
    "version": 3
   },
   "file_extension": ".py",
   "mimetype": "text/x-python",
   "name": "python",
   "nbconvert_exporter": "python",
   "pygments_lexer": "ipython3",
   "version": "3.9.18"
  }
 },
 "nbformat": 4,
 "nbformat_minor": 2
}
