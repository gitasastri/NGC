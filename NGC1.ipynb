{
 "cells": [
  {
   "cell_type": "code",
   "execution_count": 1,
   "metadata": {},
   "outputs": [
    {
     "name": "stdout",
     "output_type": "stream",
     "text": [
      "\n",
      "===Task 1===\n",
      "\n",
      "How many unique customer_id from the list? 12\n"
     ]
    }
   ],
   "source": [
    "#Task 1\n",
    "print('\\n===Task 1===\\n')\n",
    "customer_id = ['B818', 'A461', 'A092', 'A082', 'B341', 'A005', 'A092', 'A461','B219', 'B904', 'A901', 'A083', 'B904', 'A092', 'B341', 'B821','B341', 'B821', 'B904', 'B818', 'A901', 'A083', 'B818', 'A082','B219', 'B219', 'A083', 'A901', 'A082', 'B341', 'B341', 'A083','A082', 'B219', 'B439', 'A461', 'A005', 'A901', 'B341', 'A082','A083', 'A461', 'A083', 'A901', 'A461', 'A083', 'A082', 'A083','B341', 'A901', 'A082', 'A461', 'B219', 'A083', 'B818', 'B821','A092', 'B341', 'A461', 'A092', 'A083', 'B821', 'A092']\n",
    "num_values = len(set(customer_id))\n",
    "print('How many unique customer_id from the list?', num_values)\n"
   ]
  },
  {
   "cell_type": "code",
   "execution_count": 2,
   "metadata": {},
   "outputs": [
    {
     "name": "stdout",
     "output_type": "stream",
     "text": [
      "\n",
      "===Task 2===\n",
      "\n",
      "a. 16\n",
      "b. [36, 49, 64]\n",
      "c. [100, 81, 64, 49, 36, 25, 16, 9, 4, 1] \n",
      "\n"
     ]
    }
   ],
   "source": [
    "#Task 2\n",
    "print('\\n===Task 2===\\n')\n",
    "data = [1, 4, 9, 16, 25, 36, 49, 64, 81, 100]\n",
    "print('a.', data[3])\n",
    "print('b.', data[5:8])\n",
    "\n",
    "data = [1, 4, 9, 16, 25, 36, 49, 64, 81, 100]\n",
    "data.reverse()\n",
    "print('c.', data,'\\n')\n"
   ]
  },
  {
   "cell_type": "code",
   "execution_count": 3,
   "metadata": {},
   "outputs": [
    {
     "name": "stdout",
     "output_type": "stream",
     "text": [
      "\n",
      "===Task 3===\n",
      "\n",
      "a. dict_keys(['Nanggroe Aceh Darussalam', 'Sumatera Selatan', 'Kalimantan Barat', 'Jawa Timur', 'Sulawesi Selatan', 'Maluku']) \n",
      "\n",
      "b. {'Nanggroe Aceh Darussalam': 'Aceh', 'Sumatera Selatan': 'Palembang', 'Kalimantan Barat': 'Pontianak', 'Jawa Timur': 'Surabaya', 'Sulawesi Selatan': 'Makassar', 'Maluku': 'Ambon'}\n"
     ]
    }
   ],
   "source": [
    "#Task 3\n",
    "print('\\n===Task 3===\\n')\n",
    "Provinsi = {'Nanggroe Aceh Darussalam': 'Aceh','Sumatera Selatan': 'Palembang','Kalimantan Barat': 'Pontianak','Jawa Timur': 'Madiun','Sulawesi Selatan': 'Makassar','Maluku': 'Ambon'}\n",
    "print('a.', Provinsi.keys(), '\\n')\n",
    "Provinsi['Jawa Timur'] = 'Surabaya'\n",
    "print('b.', Provinsi)"
   ]
  }
 ],
 "metadata": {
  "kernelspec": {
   "display_name": "base",
   "language": "python",
   "name": "python3"
  },
  "language_info": {
   "codemirror_mode": {
    "name": "ipython",
    "version": 3
   },
   "file_extension": ".py",
   "mimetype": "text/x-python",
   "name": "python",
   "nbconvert_exporter": "python",
   "pygments_lexer": "ipython3",
   "version": "3.9.18"
  }
 },
 "nbformat": 4,
 "nbformat_minor": 2
}
