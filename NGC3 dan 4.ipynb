{
 "cells": [
  {
   "cell_type": "code",
   "execution_count": 12,
   "metadata": {},
   "outputs": [
    {
     "name": "stdout",
     "output_type": "stream",
     "text": [
      "Buku berjudul Prisoner of Azkaban, karangan JK. Rowling\n",
      "Buku berjudul Hujan, karangan Tere Liye\n"
     ]
    }
   ],
   "source": [
    "#class libarary \n",
    "\n",
    "class Library:\n",
    "    #atribut \n",
    "    def __init__(self):\n",
    "        self.listOfBooks = [] #list kosong buat nampung list buku\n",
    "    #method\n",
    "    def addBook(self, book):\n",
    "        #menambahkan data ke list using append\n",
    "        self.listOfBooks.append(book)\n",
    "    def searchBook(self, title=\"\", author=\"\"): #tambahan =\"\" untuk ngasih option mau cari berdasarkan apa\n",
    "        for book in self.listOfBooks: #mencari data pertama sampe akhir, jadi pake looping\n",
    "            if book.title == title:\n",
    "                print(title)\n",
    "            if book.author == author:\n",
    "                print(author)\n",
    "    def removeBook(self, book):\n",
    "         self.listOfBooks.remove(book)\n",
    "    def displayAll(self):\n",
    "        for book in self.listOfBooks:\n",
    "            print(book)\n",
    "\n",
    "\n",
    "class Book:\n",
    "    #atribut\n",
    "    def __init__(self, title, author, id):\n",
    "        self.title = title\n",
    "        self.author = author\n",
    "        self.id = id\n",
    "    def __str__(self):\n",
    "        return f\"Buku berjudul {self.title}, karangan {self.author}\"\n",
    "\n",
    "#bangun perpustakaan \n",
    "library = Library()\n",
    "\n",
    "#buat 1 buku \n",
    "buku1 = Book(\"Prisoner of Azkaban\", \"JK. Rowling\", 1)\n",
    "buku2 = Book(\"Fantastic Beast\", \"JK. Rowling\", 2)\n",
    "buku3 = Book(\"Hujan\", \"Tere Liye\", 3)\n",
    "\n",
    "#tambah buku ke perpus\n",
    "#panggil variabel library dan function mau ngapain\n",
    "library.addBook(buku1) \n",
    "library.addBook(buku2) \n",
    "library.addBook(buku3) \n",
    "\n",
    "#search book\n",
    "#panggil variabel library dan function mau ngapain \n",
    "# library.searchBook(author=\"JK. Rowling\") #panggil aja parameter authornya, tulis nama authornya\n",
    "\n",
    "#remove book \n",
    "library.removeBook(buku2)\n",
    "library.displayAll()"
   ]
  },
  {
   "cell_type": "code",
   "execution_count": 3,
   "metadata": {},
   "outputs": [
    {
     "ename": "SyntaxError",
     "evalue": "cannot assign to function call (2084625735.py, line 39)",
     "output_type": "error",
     "traceback": [
      "\u001b[1;36m  Cell \u001b[1;32mIn[3], line 39\u001b[1;36m\u001b[0m\n\u001b[1;33m    unittest.main(argv=['']), versbosity=2, exit=False)\u001b[0m\n\u001b[1;37m    ^\u001b[0m\n\u001b[1;31mSyntaxError\u001b[0m\u001b[1;31m:\u001b[0m cannot assign to function call\n"
     ]
    }
   ],
   "source": [
    "import unittest\n",
    "\n",
    "#test class\n",
    "class LibraryTest(unittest.TestCase):\n",
    "    #test case 1 -> tambah book -> katalog terisi\n",
    "    #atribut\n",
    "    def testAddBookSuccess(self):\n",
    "        library = Library()\n",
    "        buku1 = Book(\"Prisoner of Azkaban\", \"JK. Rowling\", 1)\n",
    "        buku2 = Book(\"Fantastic Beast\", \"JK. Rowling\", 2)\n",
    "        buku3 = Book(\"Hujan\", \"Tere Liye\", 3)\n",
    "\n",
    "        #tambah buku ke perpus \n",
    "        library.addBook(buku1) \n",
    "        library.addBook(buku2) \n",
    "        library.addBook(buku3) \n",
    "\n",
    "        #assertion -> cek apakah setelah tambah 3 buku, isi katalog menjadi 3?\n",
    "        self.assertEqual(len(library.listOfBooks), 3)\n",
    "\n",
    "    #test case 2 -> cari JK. Rowling -> ada 2 buku dari JK Rowling\n",
    "    def testSearchBook(self):\n",
    "        library = Library()\n",
    "        buku1 = Book(\"Prisoner of Azkaban\", \"JK. Rowling\", 1)\n",
    "        buku2 = Book(\"Fantastic Beast\", \"JK. Rowling\", 2)\n",
    "        buku3 = Book(\"Hujan\", \"Tere Liye\", 3)\n",
    "    \n",
    "        #tambah buku ke perpus \n",
    "        library.addBook(buku1) \n",
    "        library.addBook(buku2) \n",
    "        library.addBook(buku3) \n",
    "\n",
    "        #search \n",
    "        result = library.searchBook(author=\"JK. Rowling\")\n",
    "\n",
    "        self.assertEqual(len(result), 2)\n",
    "\n",
    "#running unittest\n",
    "unittest.main(argv=['']), versbosity=2, exit=False)\n"
   ]
  }
 ],
 "metadata": {
  "kernelspec": {
   "display_name": "base",
   "language": "python",
   "name": "python3"
  },
  "language_info": {
   "codemirror_mode": {
    "name": "ipython",
    "version": 3
   },
   "file_extension": ".py",
   "mimetype": "text/x-python",
   "name": "python",
   "nbconvert_exporter": "python",
   "pygments_lexer": "ipython3",
   "version": "3.9.18"
  }
 },
 "nbformat": 4,
 "nbformat_minor": 2
}
